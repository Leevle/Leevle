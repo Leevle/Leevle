{
 "cells": [
  {
   "cell_type": "code",
   "execution_count": 23,
   "id": "32ef887a",
   "metadata": {},
   "outputs": [],
   "source": [
    "import pandas as pd\n",
    "import matplotlib.pyplot as plt\n",
    "from sklearn.preprocessing import LabelEncoder,OneHotEncoder\n",
    "from keras.models import Sequential\n",
    "from keras.layers import Dense\n",
    "from keras.layers import LSTM,Embedding,Bidirectional\n",
    "from gensim.models import KeyedVectors\n",
    "from keras.callbacks import ModelCheckpoint\n",
    "from tensorflow.keras.preprocessing.sequence import pad_sequences\n",
    "from sklearn.model_selection import train_test_split\n",
    "import jieba\n",
    "import re\n",
    "import numpy as np"
   ]
  },
  {
   "cell_type": "code",
   "execution_count": 2,
   "id": "bd61d1c0",
   "metadata": {},
   "outputs": [],
   "source": [
    "cn_model=KeyedVectors.load_word2vec_format('sgns.zhihu.bigram',binary=False,unicode_errors=\"ignore\")"
   ]
  },
  {
   "cell_type": "code",
   "execution_count": 3,
   "id": "3d66e7fe",
   "metadata": {},
   "outputs": [],
   "source": [
    "def read_csv():\n",
    "    text_csv=pd.read_csv('online_shopping_10_cats.csv')\n",
    "    text_csv=text_csv.dropna()\n",
    "    print(text_csv.shape)\n",
    "    cat=text_csv['cat']\n",
    "    label=text_csv['label']\n",
    "    review=text_csv['review']\n",
    "    cat=OneHotEncoder().fit_transform(LabelEncoder().fit_transform(cat).reshape(-1,1))\n",
    "    label=OneHotEncoder().fit_transform(LabelEncoder().fit_transform(label).reshape(-1,1))\n",
    "    reviews=[]\n",
    "    for text in review:\n",
    "        txt=re.sub(\"[\\s+\\.．【】：\\!\\/_,$%^*\\(\\)+\\\"\\']+|[+—！，。？~～@#￥%……&*（） 、；│“ ”`?《》]+\",\"\",text)\n",
    "        cut_list=[i for i in jieba.cut(txt)]\n",
    "        for i,word in enumerate(cut_list):\n",
    "            try:\n",
    "                cut_list[i]=cn_model.key_to_index[word]\n",
    "            except KeyError:\n",
    "                cut_list[i]=0\n",
    "                pass\n",
    "        if cut_list==[]:cut_list=[0]\n",
    "        reviews.append(cut_list)\n",
    "    return cat,label,reviews"
   ]
  },
  {
   "cell_type": "code",
   "execution_count": 4,
   "id": "0060ec8d",
   "metadata": {},
   "outputs": [
    {
     "name": "stderr",
     "output_type": "stream",
     "text": [
      "Building prefix dict from the default dictionary ...\n",
      "Loading model from cache /tmp/jieba.cache\n"
     ]
    },
    {
     "name": "stdout",
     "output_type": "stream",
     "text": [
      "(62773, 3)\n"
     ]
    },
    {
     "name": "stderr",
     "output_type": "stream",
     "text": [
      "Loading model cost 0.521 seconds.\n",
      "Prefix dict has been built successfully.\n"
     ]
    }
   ],
   "source": [
    "classes,evaluate,text=read_csv()"
   ]
  },
  {
   "cell_type": "code",
   "execution_count": 5,
   "id": "d992d6cc",
   "metadata": {},
   "outputs": [
    {
     "data": {
      "text/plain": [
       "1459"
      ]
     },
     "execution_count": 5,
     "metadata": {},
     "output_type": "execute_result"
    }
   ],
   "source": [
    "lens=[len(i) for i in text]\n",
    "max(lens)"
   ]
  },
  {
   "cell_type": "code",
   "execution_count": 6,
   "id": "e92c2a64",
   "metadata": {},
   "outputs": [
    {
     "data": {
      "image/png": "[encoded data removed]",
      "text/plain": [
       "<Figure size 640x480 with 1 Axes>"
      ]
     },
     "metadata": {},
     "output_type": "display_data"
    }
   ],
   "source": [
    "plt.hist(np.log(lens),bins=200)\n",
    "plt.show()"
   ]
  },
  {
   "cell_type": "code",
   "execution_count": 7,
   "id": "fea4cdd4",
   "metadata": {},
   "outputs": [
    {
     "data": {
      "text/plain": [
       "113"
      ]
     },
     "execution_count": 7,
     "metadata": {},
     "output_type": "execute_result"
    }
   ],
   "source": [
    "max_tokens=np.mean(lens)+2*np.std(lens)\n",
    "max_tokens=int(max_tokens)\n",
    "max_tokens"
   ]
  },
  {
   "cell_type": "code",
   "execution_count": 8,
   "id": "bf73e681",
   "metadata": {},
   "outputs": [
    {
     "data": {
      "text/plain": [
       "0.9695251143007344"
      ]
     },
     "execution_count": 8,
     "metadata": {},
     "output_type": "execute_result"
    }
   ],
   "source": [
    "np.sum(np.array(lens)<max_tokens)/len(lens)"
   ]
  },
  {
   "cell_type": "code",
   "execution_count": 9,
   "id": "ce787be4",
   "metadata": {},
   "outputs": [],
   "source": [
    "def reverse_tokens(tokens):\n",
    "    text=''\n",
    "    for i in tokens:\n",
    "        if i!=0:\n",
    "            text=text+cn_model.index_to_key[i]\n",
    "        else:text=text+''\n",
    "    return text"
   ]
  },
  {
   "cell_type": "code",
   "execution_count": 10,
   "id": "bad0a3f0",
   "metadata": {},
   "outputs": [],
   "source": [
    "embedding_dim=300\n",
    "\n",
    "num_words=50000\n",
    "embedding_matrix=np.zeros((num_words,embedding_dim))\n",
    "\n",
    "for i in range(num_words):\n",
    "    embedding_matrix[i,:]=cn_model[cn_model.index_to_key[i]]\n",
    "embedding_matrix=embedding_matrix.astype('float32')"
   ]
  },
  {
   "cell_type": "code",
   "execution_count": 11,
   "id": "d5f242ae",
   "metadata": {},
   "outputs": [],
   "source": [
    "text=pad_sequences(text,maxlen=max_tokens,padding='pre',truncating='pre')\n",
    "text[text>=num_words]=0"
   ]
  },
  {
   "cell_type": "code",
   "execution_count": 12,
   "id": "d21f7fcc",
   "metadata": {},
   "outputs": [
    {
     "data": {
      "text/plain": [
       "(62773, 113)"
      ]
     },
     "execution_count": 12,
     "metadata": {},
     "output_type": "execute_result"
    }
   ],
   "source": [
    "text.shape"
   ]
  },
  {
   "cell_type": "code",
   "execution_count": 13,
   "id": "06200653",
   "metadata": {},
   "outputs": [],
   "source": [
    "classes=classes.toarray()\n",
    "evaluate=evaluate.toarray()"
   ]
  },
  {
   "cell_type": "code",
   "execution_count": 14,
   "id": "58760b68",
   "metadata": {},
   "outputs": [],
   "source": [
    "x_class_train,x_class_test,y_class_train,y_class_test=train_test_split(text,classes,test_size=0.2)"
   ]
  },
  {
   "cell_type": "code",
   "execution_count": 15,
   "id": "145620c1",
   "metadata": {},
   "outputs": [
    {
     "data": {
      "text/plain": [
       "(numpy.ndarray, numpy.ndarray)"
      ]
     },
     "execution_count": 15,
     "metadata": {},
     "output_type": "execute_result"
    }
   ],
   "source": [
    "type(x_class_train),type(y_class_train)"
   ]
  },
  {
   "cell_type": "code",
   "execution_count": 16,
   "id": "39be5caa",
   "metadata": {},
   "outputs": [
    {
     "data": {
      "text/plain": [
       "((50218, 113), (12555, 113), (50218, 10), (12555, 10), 113, (50000, 300))"
      ]
     },
     "execution_count": 16,
     "metadata": {},
     "output_type": "execute_result"
    }
   ],
   "source": [
    "x_class_train.shape,x_class_test.shape,y_class_train.shape,y_class_test.shape,max_tokens,embedding_matrix.shape"
   ]
  },
  {
   "cell_type": "code",
   "execution_count": 115,
   "id": "138cdd54",
   "metadata": {},
   "outputs": [],
   "source": [
    "model=Sequential()"
   ]
  },
  {
   "cell_type": "code",
   "execution_count": 116,
   "id": "fee1c68e",
   "metadata": {},
   "outputs": [],
   "source": [
    "model.add(Embedding(num_words,embedding_dim,weights=[embedding_matrix],input_length=max_tokens,trainable=False))\n",
    "model.add(Bidirectional(LSTM(units=64,return_sequences=True)))\n",
    "model.add(LSTM(units=16,return_sequences=False))\n",
    "model.add(Dense(10,activation='sigmoid'))"
   ]
  },
  {
   "cell_type": "code",
   "execution_count": 117,
   "id": "3c80b241",
   "metadata": {},
   "outputs": [
    {
     "name": "stdout",
     "output_type": "stream",
     "text": [
      "Model: \"sequential_11\"\n",
      "_________________________________________________________________\n",
      "Layer (type)                 Output Shape              Param #   \n",
      "=================================================================\n",
      "embedding_4 (Embedding)      (None, 113, 300)          15000000  \n",
      "_________________________________________________________________\n",
      "bidirectional_4 (Bidirection (None, 113, 128)          186880    \n",
      "_________________________________________________________________\n",
      "lstm_9 (LSTM)                (None, 16)                9280      \n",
      "_________________________________________________________________\n",
      "dense_10 (Dense)             (None, 10)                170       \n",
      "=================================================================\n",
      "Total params: 15,196,330\n",
      "Trainable params: 196,330\n",
      "Non-trainable params: 15,000,000\n",
      "_________________________________________________________________\n"
     ]
    }
   ],
   "source": [
    "model.summary()"
   ]
  },
  {
   "cell_type": "code",
   "execution_count": 35,
   "id": "09b40eaa",
   "metadata": {},
   "outputs": [],
   "source": [
    "checkpoint=ModelCheckpoint(\"epoch-{epoch:02d}-val_loss{val_loss:.3f}-val_accuracy{val_accuracy:.3f}.hdf5\",monitor='accuracy',save_best_only=True,save_weights_only=True)"
   ]
  },
  {
   "cell_type": "code",
   "execution_count": 36,
   "id": "efb3d99a",
   "metadata": {},
   "outputs": [],
   "source": [
    "model.compile(loss='binary_crossentropy',optimizer='adam',metrics=['accuracy'])"
   ]
  },
  {
   "cell_type": "code",
   "execution_count": 37,
   "id": "8287788f",
   "metadata": {},
   "outputs": [
    {
     "data": {
      "text/plain": [
       "((50218, 113), (50218, 10))"
      ]
     },
     "execution_count": 37,
     "metadata": {},
     "output_type": "execute_result"
    }
   ],
   "source": [
    "x_class_train.shape,y_class_train.shape"
   ]
  },
  {
   "cell_type": "code",
   "execution_count": 38,
   "id": "9baa29f6",
   "metadata": {},
   "outputs": [
    {
     "name": "stdout",
     "output_type": "stream",
     "text": [
      "Epoch 1/12\n",
      "1256/1256 [==============================] - 168s 131ms/step - loss: 0.2489 - accuracy: 0.4492 - val_loss: 0.1783 - val_accuracy: 0.7186\n",
      "Epoch 2/12\n",
      "1256/1256 [==============================] - 160s 127ms/step - loss: 0.1320 - accuracy: 0.7952 - val_loss: 0.1098 - val_accuracy: 0.8078\n",
      "Epoch 3/12\n",
      "1256/1256 [==============================] - 163s 130ms/step - loss: 0.0914 - accuracy: 0.8338 - val_loss: 0.0868 - val_accuracy: 0.8343\n",
      "Epoch 4/12\n",
      "1256/1256 [==============================] - 167s 133ms/step - loss: 0.0741 - accuracy: 0.8593 - val_loss: 0.0788 - val_accuracy: 0.8553\n",
      "Epoch 5/12\n",
      "1256/1256 [==============================] - 164s 131ms/step - loss: 0.0619 - accuracy: 0.8867 - val_loss: 0.0698 - val_accuracy: 0.8642\n",
      "Epoch 6/12\n",
      "1256/1256 [==============================] - 167s 133ms/step - loss: 0.0522 - accuracy: 0.9043 - val_loss: 0.0694 - val_accuracy: 0.8694\n",
      "Epoch 7/12\n",
      "1256/1256 [==============================] - 168s 134ms/step - loss: 0.0451 - accuracy: 0.9151 - val_loss: 0.0666 - val_accuracy: 0.8686\n",
      "Epoch 8/12\n",
      "1256/1256 [==============================] - 174s 139ms/step - loss: 0.0392 - accuracy: 0.9278 - val_loss: 0.0692 - val_accuracy: 0.8681\n",
      "Epoch 9/12\n",
      "1256/1256 [==============================] - 179s 143ms/step - loss: 0.0341 - accuracy: 0.9386 - val_loss: 0.0719 - val_accuracy: 0.8720\n",
      "Epoch 10/12\n",
      "1256/1256 [==============================] - 160s 127ms/step - loss: 0.0302 - accuracy: 0.9460 - val_loss: 0.0735 - val_accuracy: 0.8710\n",
      "Epoch 11/12\n",
      "1256/1256 [==============================] - 173s 138ms/step - loss: 0.0262 - accuracy: 0.9537 - val_loss: 0.0782 - val_accuracy: 0.8690\n",
      "Epoch 12/12\n",
      "1256/1256 [==============================] - 171s 136ms/step - loss: 0.0229 - accuracy: 0.9617 - val_loss: 0.0787 - val_accuracy: 0.8655\n"
     ]
    }
   ],
   "source": [
    "history=model.fit(x_class_train,y_class_train,validation_split=0.2,epochs=12,batch_size=32,callbacks=[checkpoint])"
   ]
  },
  {
   "cell_type": "code",
   "execution_count": 71,
   "id": "0cac9276",
   "metadata": {},
   "outputs": [],
   "source": [
    "loss=history.history['loss']\n",
    "val_loss=history.history['val_loss']\n",
    "accuracy=history.history['accuracy']\n",
    "val_accuracy=history.history['val_accuracy']"
   ]
  },
  {
   "cell_type": "code",
   "execution_count": 72,
   "id": "cb54e7cb",
   "metadata": {},
   "outputs": [
    {
     "data": {
      "image/png": "[encoded data removed]",
      "text/plain": [
       "<Figure size 640x480 with 2 Axes>"
      ]
     },
     "metadata": {},
     "output_type": "display_data"
    }
   ],
   "source": [
    "fg=plt.figure()\n",
    "ax_loss=fg.add_subplot(121)\n",
    "ax_loss.plot(loss,color='red')\n",
    "ax_loss.plot(val_loss,color='blue')\n",
    "ax_loss.set(title=\"loss\", xlabel='epochs', ylabel='loss and val_loss')\n",
    "\n",
    "ax_accuracy=fg.add_subplot(122)\n",
    "ax_accuracy.plot(accuracy,color='yellow')\n",
    "ax_accuracy.plot(val_accuracy,color='magenta')\n",
    "ax_accuracy.set(title=\"accuracy\", xlabel='epochs', ylabel='accuracy and val_accuracy')\n",
    "\n",
    "plt.show()"
   ]
  },
  {
   "cell_type": "code",
   "execution_count": 45,
   "id": "5ea0cc84",
   "metadata": {},
   "outputs": [
    {
     "name": "stdout",
     "output_type": "stream",
     "text": [
      "393/393 [==============================] - 18s 45ms/step - loss: 0.0802 - accuracy: 0.8648\n"
     ]
    },
    {
     "data": {
      "text/plain": [
       "[0.08020760118961334, 0.8647550940513611]"
      ]
     },
     "execution_count": 45,
     "metadata": {},
     "output_type": "execute_result"
    }
   ],
   "source": [
    "model.evaluate(x_class_test,y_class_test)"
   ]
  },
  {
   "cell_type": "code",
   "execution_count": 59,
   "id": "72baf2a4",
   "metadata": {},
   "outputs": [],
   "source": [
    "y_class_info=['书籍','平板','手机','水果','洗发水','热水器','蒙牛','衣服','计算机','酒店']"
   ]
  },
  {
   "cell_type": "code",
   "execution_count": 103,
   "id": "21c85b90",
   "metadata": {},
   "outputs": [],
   "source": [
    "new_model=Sequential()\n",
    "for layer in model.layers[:-1]:\n",
    "    new_model.add(layer)\n",
    "new_model.add(Dense(2,activation='sigmoid'))"
   ]
  },
  {
   "cell_type": "code",
   "execution_count": 104,
   "id": "62f6f698",
   "metadata": {},
   "outputs": [
    {
     "name": "stdout",
     "output_type": "stream",
     "text": [
      "Model: \"sequential_10\"\n",
      "_________________________________________________________________\n",
      "Layer (type)                 Output Shape              Param #   \n",
      "=================================================================\n",
      "embedding_3 (Embedding)      (None, 113, 300)          15000000  \n",
      "_________________________________________________________________\n",
      "bidirectional_3 (Bidirection (None, 113, 128)          186880    \n",
      "_________________________________________________________________\n",
      "lstm_7 (LSTM)                (None, 16)                9280      \n",
      "_________________________________________________________________\n",
      "dense_9 (Dense)              (None, 2)                 34        \n",
      "=================================================================\n",
      "Total params: 15,196,194\n",
      "Trainable params: 196,194\n",
      "Non-trainable params: 15,000,000\n",
      "_________________________________________________________________\n"
     ]
    }
   ],
   "source": [
    "new_model.summary()"
   ]
  },
  {
   "cell_type": "code",
   "execution_count": 84,
   "id": "3916bc5e",
   "metadata": {},
   "outputs": [
    {
     "data": {
      "text/plain": [
       "(62773, 2)"
      ]
     },
     "execution_count": 84,
     "metadata": {},
     "output_type": "execute_result"
    }
   ],
   "source": [
    "evaluate.shape"
   ]
  },
  {
   "cell_type": "code",
   "execution_count": 85,
   "id": "860b0f85",
   "metadata": {},
   "outputs": [
    {
     "data": {
      "text/plain": [
       "((50218, 113), (50218, 2), (12555, 113), (12555, 2))"
      ]
     },
     "execution_count": 85,
     "metadata": {},
     "output_type": "execute_result"
    }
   ],
   "source": [
    "new_x_train,new_x_test,new_y_train,new_y_test=train_test_split(text,evaluate,test_size=0.2)\n",
    "new_x_train.shape,new_y_train.shape,new_x_test.shape,new_y_test.shape"
   ]
  },
  {
   "cell_type": "code",
   "execution_count": 105,
   "id": "44cc0d23",
   "metadata": {},
   "outputs": [
    {
     "name": "stdout",
     "output_type": "stream",
     "text": [
      "Epoch 1/10\n",
      "628/628 [==============================] - 469s 747ms/step - loss: 0.3027 - accuracy: 0.8819 - val_loss: 0.2408 - val_accuracy: 0.9134\n",
      "Epoch 2/10\n",
      "628/628 [==============================] - 454s 723ms/step - loss: 0.2232 - accuracy: 0.9163 - val_loss: 0.2055 - val_accuracy: 0.9249\n",
      "Epoch 3/10\n",
      "628/628 [==============================] - 459s 731ms/step - loss: 0.1922 - accuracy: 0.9305 - val_loss: 0.1993 - val_accuracy: 0.9280\n",
      "Epoch 4/10\n",
      "628/628 [==============================] - 456s 726ms/step - loss: 0.1713 - accuracy: 0.9391 - val_loss: 0.1963 - val_accuracy: 0.9283\n",
      "Epoch 5/10\n",
      "628/628 [==============================] - 450s 717ms/step - loss: 0.1503 - accuracy: 0.9476 - val_loss: 0.1940 - val_accuracy: 0.9300\n",
      "Epoch 6/10\n",
      "628/628 [==============================] - 456s 725ms/step - loss: 0.1280 - accuracy: 0.9567 - val_loss: 0.2009 - val_accuracy: 0.9321\n",
      "Epoch 7/10\n",
      "628/628 [==============================] - 489s 779ms/step - loss: 0.1058 - accuracy: 0.9657 - val_loss: 0.2218 - val_accuracy: 0.9263\n",
      "Epoch 8/10\n",
      "628/628 [==============================] - 463s 738ms/step - loss: 0.0870 - accuracy: 0.9733 - val_loss: 0.2272 - val_accuracy: 0.9294\n",
      "Epoch 9/10\n",
      "628/628 [==============================] - 463s 737ms/step - loss: 0.0711 - accuracy: 0.9787 - val_loss: 0.2363 - val_accuracy: 0.9285\n",
      "Epoch 10/10\n",
      "628/628 [==============================] - 461s 734ms/step - loss: 0.0599 - accuracy: 0.9828 - val_loss: 0.2625 - val_accuracy: 0.9255\n"
     ]
    }
   ],
   "source": [
    "new_checkpoint=ModelCheckpoint(\"new_epoch-{epoch:02d}-val_loss{val_loss:.3f}-val_accuracy{val_accuracy:.3f}.hdf5\",monitor='accuracy',save_best_only=True,save_weights_only=True)\n",
    "new_model.compile(loss='binary_crossentropy',optimizer='adam',metrics=['accuracy'])\n",
    "new_history=new_model.fit(new_x_train,new_y_train,validation_split=0.2,epochs=10,batch_size=64,callbacks=[new_checkpoint])"
   ]
  },
  {
   "cell_type": "code",
   "execution_count": 106,
   "id": "1b2aae62",
   "metadata": {},
   "outputs": [
    {
     "data": {
      "image/png": "[encoded data removed]",
      "text/plain": [
       "<Figure size 640x480 with 2 Axes>"
      ]
     },
     "metadata": {},
     "output_type": "display_data"
    }
   ],
   "source": [
    "fg=plt.figure()\n",
    "ax_loss=fg.add_subplot(121)\n",
    "ax_loss.plot(new_history.history['loss'],color='red')\n",
    "ax_loss.plot(new_history.history['val_loss'],color='blue')\n",
    "ax_loss.set(title=\"loss\", xlabel='epochs', ylabel='loss and val_loss')\n",
    "\n",
    "ax_accuracy=fg.add_subplot(122)\n",
    "ax_accuracy.plot(new_history.history['accuracy'],color='yellow')\n",
    "ax_accuracy.plot(new_history.history['val_accuracy'],color='magenta')\n",
    "ax_accuracy.set(title=\"accuracy\", xlabel='epochs', ylabel='accuracy and val_accuracy')\n",
    "\n",
    "plt.show()"
   ]
  },
  {
   "cell_type": "code",
   "execution_count": 119,
   "id": "954be29e",
   "metadata": {},
   "outputs": [
    {
     "name": "stdout",
     "output_type": "stream",
     "text": [
      "1: 穿着太热根本体会不到是小心上当 类别:衣服,情感:负面 \n",
      "\n",
      "2: 应该不是真货首先闻味道和在商场买的不一样其次洗完头之后没有顺滑的感觉之前很多次了都不是这样大家不要贪便宜吧 类别:洗发水,情感:负面 \n",
      "\n",
      "3: 恶心的蒙牛 类别:蒙牛,情感:负面 \n",
      "\n",
      "4: 好好好看电影 类别:平板,情感:正面 \n",
      "\n",
      "5: 还不错一直购买的品牌 类别:平板,情感:正面 \n",
      "\n",
      "6: 苹果很好色泽好看着就觉得不错不是特别相当到位好吃再来买京东配送速度快服务也到位 类别:水果,情感:正面 \n",
      "\n",
      "7: 真的太差线头多开线 类别:衣服,情感:负面 \n",
      "\n",
      "8: 条件一般台风天气那天房间不打折 类别:酒店,情感:负面 \n",
      "\n",
      "9: 这个牌子的洗发水我一直都在用东西收到了是正品味道挺好闻的大爱 类别:洗发水,情感:正面 \n",
      "\n",
      "10: 质量不错穿上很合适满意 类别:衣服,情感:正面 \n",
      "\n",
      "11: 唯一就是房间设施略显陈旧卫生倒是做得非常好餐厅的鱼头味道不错价格也合适早餐单调南瓜很好吃不过一个房间的早餐我带着小朋友服务人员也人性化的免费的感觉还是不错的还有一点很重要这里的服务人员都很有礼貌在三星酒店来说很难得看得出酒店管理还是不错的当然最最重要的是价格很合适也许设备设施不如其它高星级的酒店但相比价格而言性价比还是蛮高的了下次来住假日饭店当然中彩票大奖后除外 类别:酒店,情感:正面 \n",
      "\n",
      "12: 骂中国姑娘的态度不好更应该表现同胞姐妹的关爱而不是痛骂 类别:书籍,情感:负面 \n",
      "\n",
      "13: 没收到货就显示订单已完成已签收什么意思嘛 类别:洗发水,情感:负面 \n",
      "\n",
      "14: 令人惊讶的是宽带接口在床头下面需要把床拖出来才能够到最后我只能把电脑放在床头柜上自己坐在地上上网这是我碰到这样的情况2卫生间非常陈旧更的是毛巾已经边了居然还挂在那3早餐真的很差品种异常的少普通的煮鸡蛋还是服务员在那每人发一个而且我们8的时候所有桌子上都是乱七八糟的还没及时清理这样的早餐吃的让人恶心难怪看其他点评也提到早餐问题下次不会这家酒店了 类别:酒店,情感:负面 \n",
      "\n",
      "15: 感觉面料不错尺寸大小都刚好穿着挺舒服 类别:衣服,情感:正面 \n",
      "\n",
      "16: 好很好比商店的便宜好多而且用起来和商店的没区别希望卖家越做越好加油加油加油 类别:衣服,情感:正面 \n",
      "\n",
      "17: 有点无法用型号小了又不能换 类别:手机,情感:负面 \n",
      "\n",
      "18: 本次购物非常不满意显示实际不加拉链不平严重扭曲客服百般推诿毫无诚信可言闹心 类别:衣服,情感:负面 \n",
      "\n",
      "19: 由于不给不能评价就给吧首先包装那么大一个盒子里面平板竟然都不放抗震膜 类别:平板,情感:负面 \n",
      "\n",
      "20: 618活动买的超级的好比超市的很多一下买啦还买啦很多的东西还有赠品感谢京东支持京东 类别:洗发水,情感:正面 \n",
      "\n",
      "21: 满了不能升级比较遗憾半落地窗能看到海但与居民楼房间比较干净床比较大和国内比显得房间有点小不过据说在香港这样的大小房间已经很不错了酒店服务很到位坐酒店免费班车送我们到港澳码头就我和老公司机态度挺不错酒店出门左转就可以交通还算方便而且后来才知道酒店离本来可以去港大散散步下次有机会还可能再住看了别人的点评发现的比较高的携程在价格上好象没有优势 类别:酒店,情感:正面 \n",
      "\n",
      "22: 钱还想咋样呀 类别:书籍,情感:负面 \n",
      "\n",
      "23: 裤子一般但老板没诚信说好的买送皮带结果收到就裤子和客服沟通却一直忽悠最后竟然可以假物流无语这样做生意作死 类别:衣服,情感:负面 \n",
      "\n",
      "24: 东西真心不怎么样潘苹果是酸的丑也不新鲜就椰子还行 类别:水果,情感:负面 \n",
      "\n",
      "25: 废话多感觉不是很好不是很系统很专业可操作性也不强 类别:书籍,情感:负面 \n",
      "\n"
     ]
    }
   ],
   "source": [
    "# model.load_weights('epoch-09-val_loss0.072-val_accuracy0.872.hdf5')\n",
    "# new_model.load_weights('new_epoch-08-val_loss0.227-val_accuracy0.929.hdf5')\n",
    "for i in range(x_class_test.shape[0]//500):\n",
    "    index=np.random.randint(x_class_test.shape[0],size=1)[0]\n",
    "    pre_x=x_class_test[index]\n",
    "    pre_x_text=reverse_tokens(pre_x)\n",
    "    act_y=y_class_info[list(y_class_test[index]).index(max(y_class_test[index]))]\n",
    "    pre=model.predict(np.array([pre_x]))[0]\n",
    "    new_pre=new_model.predict(np.array([pre_x]))[0]\n",
    "    pre_y=y_class_info[list(pre).index(max(pre))]\n",
    "    new_pre_y=['负面','正面'][list(new_pre).index(max(new_pre))]\n",
    "    print(\"{}:\".format(i+1),pre_x_text,\"类别:{},情感:{}\".format(pre_y,new_pre_y),'\\n')"
   ]
  },
  {
   "cell_type": "code",
   "execution_count": null,
   "id": "6fd81ac9",
   "metadata": {},
   "outputs": [],
   "source": []
  }
 ],
 "metadata": {
  "kernelspec": {
   "display_name": "Apple",
   "language": "python",
   "name": "apple"
  },
  "language_info": {
   "codemirror_mode": {
    "name": "ipython",
    "version": 3
   },
   "file_extension": ".py",
   "mimetype": "text/x-python",
   "name": "python",
   "nbconvert_exporter": "python",
   "pygments_lexer": "ipython3",
   "version": "3.8.12"
  }
 },
 "nbformat": 4,
 "nbformat_minor": 5
}
